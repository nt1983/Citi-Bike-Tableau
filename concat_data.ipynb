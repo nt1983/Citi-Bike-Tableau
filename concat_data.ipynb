{
 "metadata": {
  "language_info": {
   "codemirror_mode": {
    "name": "ipython",
    "version": 3
   },
   "file_extension": ".py",
   "mimetype": "text/x-python",
   "name": "python",
   "nbconvert_exporter": "python",
   "pygments_lexer": "ipython3",
   "version": "3.8.5"
  },
  "orig_nbformat": 2,
  "kernelspec": {
   "name": "python385jvsc74a57bd033888a5d72fd546c510608f5704d454dda4fecfe28f012ab1603f1178be745ca",
   "display_name": "Python 3.8.5 64-bit (conda)"
  }
 },
 "nbformat": 4,
 "nbformat_minor": 2,
 "cells": [
  {
   "cell_type": "code",
   "execution_count": 1,
   "metadata": {},
   "outputs": [],
   "source": [
    "import pandas as pd\n",
    "import os\n",
    "import glob"
   ]
  },
  {
   "cell_type": "code",
   "execution_count": 2,
   "metadata": {},
   "outputs": [],
   "source": [
    "extension = 'csv'\n",
    "all_filenames = [i for i in glob.glob('*.{}'.format(extension))]"
   ]
  },
  {
   "cell_type": "code",
   "execution_count": 3,
   "metadata": {},
   "outputs": [],
   "source": [
    "#combine all files in the list\n",
    "combined_csv = pd.concat([pd.read_csv(f) for f in all_filenames ])\n",
    "#export to csv\n",
    "combined_csv.to_csv( \"Resources\\combined_csv.csv\", index=False, encoding='utf-8-sig')"
   ]
  },
  {
   "cell_type": "code",
   "execution_count": 5,
   "metadata": {},
   "outputs": [],
   "source": [
    "df=pd.read_csv('Resources\\combined_csv.csv')"
   ]
  },
  {
   "cell_type": "code",
   "execution_count": 6,
   "metadata": {},
   "outputs": [
    {
     "output_type": "execute_result",
     "data": {
      "text/plain": [
       "tripduration               1095641\n",
       "starttime                  1095641\n",
       "stoptime                   1095641\n",
       "start station id           1095641\n",
       "start station name         1095641\n",
       "start station latitude     1095641\n",
       "start station longitude    1095641\n",
       "end station id             1095641\n",
       "end station name           1095641\n",
       "end station latitude       1095641\n",
       "end station longitude      1095641\n",
       "bikeid                     1095641\n",
       "usertype                   1095641\n",
       "birth year                 1095641\n",
       "gender                     1095641\n",
       "dtype: int64"
      ]
     },
     "metadata": {},
     "execution_count": 6
    }
   ],
   "source": [
    "df.count()"
   ]
  },
  {
   "cell_type": "code",
   "execution_count": 9,
   "metadata": {},
   "outputs": [
    {
     "output_type": "execute_result",
     "data": {
      "text/plain": [
       "         tripduration                 starttime                  stoptime  \\\n",
       "1095636          1750  2020-12-31 23:07:44.0030  2020-12-31 23:36:54.4710   \n",
       "1095637          1519  2020-12-31 23:18:00.2630  2020-12-31 23:43:19.8590   \n",
       "1095638          1761  2020-12-31 23:31:09.4620  2021-01-01 00:00:31.3290   \n",
       "1095639           637  2020-12-31 23:35:45.4640  2020-12-31 23:46:22.7300   \n",
       "1095640          1607  2020-12-31 23:48:34.5750  2021-01-01 00:15:22.3090   \n",
       "\n",
       "         start station id start station name  start station latitude  \\\n",
       "1095636              3199       Newport Pkwy               40.728745   \n",
       "1095637              3184        Paulus Hook               40.714145   \n",
       "1095638              3195            Sip Ave               40.730897   \n",
       "1095639              3681           Grand St               40.715178   \n",
       "1095640              3267       Morris Canal               40.712419   \n",
       "\n",
       "         start station longitude  end station id end station name  \\\n",
       "1095636               -74.032108            3199     Newport Pkwy   \n",
       "1095637               -74.033552            3195          Sip Ave   \n",
       "1095638               -74.063913            3270  Jersey & 6th St   \n",
       "1095639               -74.037683            3199     Newport Pkwy   \n",
       "1095640               -74.038526            3267     Morris Canal   \n",
       "\n",
       "         end station latitude  end station longitude  bikeid    usertype  \\\n",
       "1095636             40.728745             -74.032108   40440    Customer   \n",
       "1095637             40.730897             -74.063913   46340    Customer   \n",
       "1095638             40.725289             -74.045572   40907    Customer   \n",
       "1095639             40.728745             -74.032108   42250    Customer   \n",
       "1095640             40.712419             -74.038526   48742  Subscriber   \n",
       "\n",
       "         birth year  gender  \n",
       "1095636        1969       0  \n",
       "1095637        1969       0  \n",
       "1095638        1998       1  \n",
       "1095639        1969       0  \n",
       "1095640        1982       1  "
      ],
      "text/html": "<div>\n<style scoped>\n    .dataframe tbody tr th:only-of-type {\n        vertical-align: middle;\n    }\n\n    .dataframe tbody tr th {\n        vertical-align: top;\n    }\n\n    .dataframe thead th {\n        text-align: right;\n    }\n</style>\n<table border=\"1\" class=\"dataframe\">\n  <thead>\n    <tr style=\"text-align: right;\">\n      <th></th>\n      <th>tripduration</th>\n      <th>starttime</th>\n      <th>stoptime</th>\n      <th>start station id</th>\n      <th>start station name</th>\n      <th>start station latitude</th>\n      <th>start station longitude</th>\n      <th>end station id</th>\n      <th>end station name</th>\n      <th>end station latitude</th>\n      <th>end station longitude</th>\n      <th>bikeid</th>\n      <th>usertype</th>\n      <th>birth year</th>\n      <th>gender</th>\n    </tr>\n  </thead>\n  <tbody>\n    <tr>\n      <th>1095636</th>\n      <td>1750</td>\n      <td>2020-12-31 23:07:44.0030</td>\n      <td>2020-12-31 23:36:54.4710</td>\n      <td>3199</td>\n      <td>Newport Pkwy</td>\n      <td>40.728745</td>\n      <td>-74.032108</td>\n      <td>3199</td>\n      <td>Newport Pkwy</td>\n      <td>40.728745</td>\n      <td>-74.032108</td>\n      <td>40440</td>\n      <td>Customer</td>\n      <td>1969</td>\n      <td>0</td>\n    </tr>\n    <tr>\n      <th>1095637</th>\n      <td>1519</td>\n      <td>2020-12-31 23:18:00.2630</td>\n      <td>2020-12-31 23:43:19.8590</td>\n      <td>3184</td>\n      <td>Paulus Hook</td>\n      <td>40.714145</td>\n      <td>-74.033552</td>\n      <td>3195</td>\n      <td>Sip Ave</td>\n      <td>40.730897</td>\n      <td>-74.063913</td>\n      <td>46340</td>\n      <td>Customer</td>\n      <td>1969</td>\n      <td>0</td>\n    </tr>\n    <tr>\n      <th>1095638</th>\n      <td>1761</td>\n      <td>2020-12-31 23:31:09.4620</td>\n      <td>2021-01-01 00:00:31.3290</td>\n      <td>3195</td>\n      <td>Sip Ave</td>\n      <td>40.730897</td>\n      <td>-74.063913</td>\n      <td>3270</td>\n      <td>Jersey &amp; 6th St</td>\n      <td>40.725289</td>\n      <td>-74.045572</td>\n      <td>40907</td>\n      <td>Customer</td>\n      <td>1998</td>\n      <td>1</td>\n    </tr>\n    <tr>\n      <th>1095639</th>\n      <td>637</td>\n      <td>2020-12-31 23:35:45.4640</td>\n      <td>2020-12-31 23:46:22.7300</td>\n      <td>3681</td>\n      <td>Grand St</td>\n      <td>40.715178</td>\n      <td>-74.037683</td>\n      <td>3199</td>\n      <td>Newport Pkwy</td>\n      <td>40.728745</td>\n      <td>-74.032108</td>\n      <td>42250</td>\n      <td>Customer</td>\n      <td>1969</td>\n      <td>0</td>\n    </tr>\n    <tr>\n      <th>1095640</th>\n      <td>1607</td>\n      <td>2020-12-31 23:48:34.5750</td>\n      <td>2021-01-01 00:15:22.3090</td>\n      <td>3267</td>\n      <td>Morris Canal</td>\n      <td>40.712419</td>\n      <td>-74.038526</td>\n      <td>3267</td>\n      <td>Morris Canal</td>\n      <td>40.712419</td>\n      <td>-74.038526</td>\n      <td>48742</td>\n      <td>Subscriber</td>\n      <td>1982</td>\n      <td>1</td>\n    </tr>\n  </tbody>\n</table>\n</div>"
     },
     "metadata": {},
     "execution_count": 9
    }
   ],
   "source": [
    "df.tail()"
   ]
  },
  {
   "cell_type": "code",
   "execution_count": null,
   "metadata": {},
   "outputs": [],
   "source": []
  }
 ]
}